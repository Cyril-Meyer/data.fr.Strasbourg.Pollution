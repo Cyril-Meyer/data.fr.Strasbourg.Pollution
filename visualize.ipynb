{
 "cells": [
  {
   "cell_type": "code",
   "execution_count": null,
   "id": "d922003d-442d-4813-a6d2-b0601fb98fe5",
   "metadata": {},
   "outputs": [],
   "source": [
    "import datetime\n",
    "import pandas as pd\n",
    "\n",
    "import numpy as np\n",
    "import plotly.express as px\n",
    "import plotly.graph_objects as go\n",
    "import plotly.offline\n",
    "import plotly.subplots\n",
    "\n",
    "from tqdm import tqdm\n",
    "from IPython.display import HTML\n",
    "from IPython.display import SVG"
   ]
  },
  {
   "cell_type": "code",
   "execution_count": null,
   "id": "5db63176-ff74-4f1a-b70a-54c26eac5726",
   "metadata": {},
   "outputs": [],
   "source": [
    "df_all = pd.read_csv(f'raw/mes_atmo_grand_est_mensuel_poll_princ.csv')"
   ]
  },
  {
   "cell_type": "code",
   "execution_count": null,
   "id": "0800fdd8-47ac-407a-829b-84ccf6da00bc",
   "metadata": {},
   "outputs": [],
   "source": [
    "df_all = df_all[df_all.statut_valid == 1]\n",
    "df_all.date_debut = pd.to_datetime(df_all.date_debut)\n",
    "df_all.date_fin = pd.to_datetime(df_all.date_fin)\n",
    "df_all = df_all.drop(df_all[df_all.valeur <= 0].index)\n",
    "df_all = df_all.sort_values('date_debut')\n",
    "df_all.rename(columns={\"date_debut\" : 'date'}, inplace=True)"
   ]
  },
  {
   "cell_type": "code",
   "execution_count": null,
   "id": "06d2b496-d00c-42b3-b1cf-05ea572f1cdd",
   "metadata": {},
   "outputs": [],
   "source": [
    "noms_stations = df_all.nom_station.unique()"
   ]
  },
  {
   "cell_type": "code",
   "execution_count": null,
   "id": "410d83ed-d1a4-4a2f-9107-e8432f3fba45",
   "metadata": {},
   "outputs": [],
   "source": [
    "def clean_string(string):\n",
    "    return string.replace(' ', '_').replace('-', '').replace('(', '').replace(')', '').replace('  ', ' ').replace('__', '_')"
   ]
  },
  {
   "cell_type": "code",
   "execution_count": null,
   "id": "24d792a0-8f5b-42b9-bd7c-541571954d0c",
   "metadata": {},
   "outputs": [],
   "source": [
    "for station in [s for s in noms_stations if \"Strasbourg\".upper() in s.upper()]:\n",
    "    df = df_all[(df_all.nom_station == station)]\n",
    "    fig = px.line(df, x=\"date\", y=\"valeur\", color='nom_poll', title=f'pollution par date : {station}')\n",
    "    # fig.update_xaxes(rangeslider_visible=True)\n",
    "    fig.update_layout(xaxis_range=[datetime.datetime(2012, 1, 1),\n",
    "                                   datetime.datetime(2022, 4, 1)])\n",
    "    fig.update_layout(yaxis_range=[0, 200])\n",
    "    plotly.offline.plot(fig, filename=f'{clean_string(station)}.html', auto_open=False)\n",
    "    fig.show()"
   ]
  },
  {
   "cell_type": "code",
   "execution_count": null,
   "id": "d74bc220-ed97-410a-a664-bff11591f4f1",
   "metadata": {},
   "outputs": [],
   "source": []
  }
 ],
 "metadata": {
  "kernelspec": {
   "display_name": "Python 3 (ipykernel)",
   "language": "python",
   "name": "python3"
  },
  "language_info": {
   "codemirror_mode": {
    "name": "ipython",
    "version": 3
   },
   "file_extension": ".py",
   "mimetype": "text/x-python",
   "name": "python",
   "nbconvert_exporter": "python",
   "pygments_lexer": "ipython3",
   "version": "3.7.9"
  }
 },
 "nbformat": 4,
 "nbformat_minor": 5
}
